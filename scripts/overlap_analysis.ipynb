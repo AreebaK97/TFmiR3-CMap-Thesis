{
 "cells": [
  {
   "cell_type": "code",
   "execution_count": 5,
   "metadata": {},
   "outputs": [],
   "source": [
    "import pubchempy as pcp\n",
    "import pandas as pd\n",
    "# import cmapBQ.query as cmap_query\n",
    "# import cmapBQ.config as cmap_config\n",
    "import os\n",
    "from cmapPy.pandasGEXpress.parse import parse\n",
    "import matplotlib.pyplot as plt"
   ]
  },
  {
   "cell_type": "markdown",
   "metadata": {},
   "source": [
    "# Get Compound IDS from PubChem"
   ]
  },
  {
   "cell_type": "code",
   "execution_count": 4,
   "metadata": {},
   "outputs": [],
   "source": [
    "def get_compound_ids(drug_name):\n",
    "    try:\n",
    "        compounds = pcp.get_compounds(drug_name, 'name')\n",
    "        \n",
    "        compound_ids = [compound.cid for compound in compounds]\n",
    "        \n",
    "        return compound_ids\n",
    "    except Exception as e:\n",
    "        print(\"An error occurred:\", e)\n",
    "        return []"
   ]
  },
  {
   "cell_type": "code",
   "execution_count": 54,
   "metadata": {},
   "outputs": [
    {
     "data": {
      "text/plain": [
       "[Compound(11167602)]"
      ]
     },
     "execution_count": 54,
     "metadata": {},
     "output_type": "execute_result"
    }
   ],
   "source": [
    "# pcp.get_compounds(\"Regorafenib\", 'name')"
   ]
  },
  {
   "cell_type": "markdown",
   "metadata": {},
   "source": [
    "## Getting Drug Ids"
   ]
  },
  {
   "cell_type": "code",
   "execution_count": 8,
   "metadata": {},
   "outputs": [],
   "source": [
    "def read_drugs_from_file(file_path):\n",
    "    try:\n",
    "        with open(file_path, 'r') as file:\n",
    "            drugs = [line.strip() for line in file.readlines() if line.strip()]\n",
    "        return drugs\n",
    "    except Exception as e:\n",
    "        print(\"An error occurred while reading the file:\", e)\n",
    "        return []\n",
    "\n",
    "file_path = 'C:/Users/areeba khan/Documents/UdS/Master Thesis/Drugs/lusc/ttd_drugs.txt'\n",
    "drugs = read_drugs_from_file(file_path)\n",
    "\n",
    "drug_cid = {}\n",
    "\n",
    "for drug in drugs:\n",
    "    if \"(\" in drug: \n",
    "        parts = drug.split('(')\n",
    "        drug_name1 = parts[0].strip()  # Name outside parentheses\n",
    "        drug_name2 = parts[1].split(')')[0].strip()  # Name inside parentheses\n",
    "\n",
    "        compound_ids1 = get_compound_ids(drug_name1)\n",
    "        compound_ids2 = get_compound_ids(drug_name2)\n",
    "\n",
    "        if compound_ids1 or compound_ids2:\n",
    "            if compound_ids1 in compound_ids2 or compound_ids2 in compound_ids1:\n",
    "                if len(compound_ids1) == len(compound_ids2):\n",
    "                    if drug in drug_cid.keys():\n",
    "                        drug_cid[drug] = compound_ids1\n",
    "                    else:\n",
    "                        drug_cid[drug] = compound_ids1\n",
    "            else:\n",
    "                if len(compound_ids1) > len(compound_ids2):\n",
    "                    if drug_name1 in drug_cid.keys():\n",
    "                        drug_cid[drug_name1] = compound_ids1\n",
    "                    else:\n",
    "                        drug_cid[drug_name1] = compound_ids1\n",
    "                if len(compound_ids1) > len(compound_ids2):\n",
    "                    if drug_name2 in drug_cid.keys():\n",
    "                        drug_cid[drug_name2] = compound_ids2\n",
    "                    else:\n",
    "                        drug_cid[drug_name2] = compound_ids2\n",
    "        # print(\"Compound IDs for\", drug_name1, \":\", compound_ids1)\n",
    "        # print(\"Compound IDs for\", drug_name2, \":\", compound_ids2)\n",
    "    else:\n",
    "        compound_ids = get_compound_ids(drug)\n",
    "        # print(\"Compound IDs for\", drug, \":\", compound_ids)\n",
    "        if compound_ids:\n",
    "            if drug in drug_cid.keys():\n",
    "                drug_cid[drug] = compound_ids\n",
    "            else:\n",
    "                drug_cid[drug] = compound_ids"
   ]
  },
  {
   "cell_type": "code",
   "execution_count": 51,
   "metadata": {},
   "outputs": [
    {
     "data": {
      "text/plain": [
       "{'Cabozantinib-S-Malate': [25102846],\n",
       " 'Futibatinib': [71621331],\n",
       " 'Lenvatinib Mesylate': [11237762],\n",
       " 'Nexavar': [216239, 406563],\n",
       " 'Sorafenib Tosylate': [406563],\n",
       " 'Pemigatinib': [86705695],\n",
       " 'Regorafenib': [11167602]}"
      ]
     },
     "execution_count": 51,
     "metadata": {},
     "output_type": "execute_result"
    }
   ],
   "source": [
    "drug_cid"
   ]
  },
  {
   "cell_type": "code",
   "execution_count": 9,
   "metadata": {},
   "outputs": [
    {
     "name": "stdout",
     "output_type": "stream",
     "text": [
      "Data has been written to C:/Users/areeba khan/Documents/UdS/Master Thesis/Drugs/lusc/ttd_cid.txt\n"
     ]
    }
   ],
   "source": [
    "file_path = 'C:/Users/areeba khan/Documents/UdS/Master Thesis/Drugs/lusc/ttd_cid.txt'\n",
    "\n",
    "# Write to file\n",
    "with open(file_path, 'w') as file:\n",
    "    for key, values in drug_cid.items():\n",
    "        if values:\n",
    "            for value in values:\n",
    "                file.write(f\"{key}\\t{value}\\n\")\n",
    "        else:\n",
    "            file.write(f\"{key}\\n\")\n",
    "\n",
    "print(f\"Data has been written to {file_path}\")\n"
   ]
  },
  {
   "cell_type": "code",
   "execution_count": 29,
   "metadata": {},
   "outputs": [
    {
     "name": "stdout",
     "output_type": "stream",
     "text": [
      "Approved drugs have been written to C:/Users/areeba khan/Documents/UdS/Master Thesis/Drugs/lihc/ttd_drugs.txt\n"
     ]
    }
   ],
   "source": [
    "import re\n",
    "\n",
    "# File path\n",
    "input_file_path = 'C:/Users/areeba khan/Documents/UdS/Master Thesis/Drugs/P1-05-Drug_disease.txt'\n",
    "output_file_path = \"C:/Users/areeba khan/Documents/UdS/Master Thesis/Drugs/lusc/ttd_drugs.txt\"\n",
    "\n",
    "\n",
    "approved_drugs = []\n",
    "\n",
    "# Read and parse the input file\n",
    "with open(input_file_path, 'r', encoding='utf-8', errors='ignore') as file:\n",
    "    lines = file.readlines()\n",
    "\n",
    "# Determine the start index for actual data\n",
    "start_index = 0\n",
    "for i, line in enumerate(lines):\n",
    "    if line.strip().startswith(\"TTDDRUID\"):\n",
    "        start_index = i + 1\n",
    "        break\n",
    "\n",
    "# Variables to keep track of current drug information\n",
    "current_drug = None\n",
    "is_approved = False\n",
    "\n",
    "# Process the relevant lines\n",
    "for line in lines[start_index:]:\n",
    "    # Check for drug name\n",
    "    if line.startswith(\"DRUGNAME\"):\n",
    "        current_drug = line.split('\\t')[1].strip()\n",
    "        is_approved = False  # Reset approval status for each new drug\n",
    "\n",
    "    if line.startswith(\"INDICATI\"):\n",
    "        parts = line.split('\\t')\n",
    "        # print(parts)\n",
    "        indication = parts[1].strip()\n",
    "        if \"Lung cancer\" in indication:\n",
    "            if \"Approved\" in parts[3]:\n",
    "                is_approved = True\n",
    "\n",
    "    # If drug is approved, add to the list\n",
    "    if current_drug and is_approved and \"Lung cancer\" in indication:\n",
    "        approved_drugs.append(current_drug)\n",
    "        # Reset approval status after adding the drug\n",
    "        is_approved = False\n",
    "        current_drug = None\n",
    "\n",
    "# Write results to the output file\n",
    "with open(output_file_path, 'w') as file:\n",
    "    for drug in approved_drugs:\n",
    "        file.write(f\"{drug}\\n\")\n",
    "\n",
    "print(f\"Approved drugs have been written to {output_file_path}\")"
   ]
  },
  {
   "cell_type": "code",
   "execution_count": 2,
   "metadata": {},
   "outputs": [
    {
     "name": "stdout",
     "output_type": "stream",
     "text": [
      "Approved drugs have been written to C:/Users/areeba khan/Documents/UdS/Master Thesis/Drugs/lusc/ttd_drugs.txt\n"
     ]
    }
   ],
   "source": [
    "import re\n",
    "\n",
    "# File path\n",
    "input_file_path = 'C:/Users/areeba khan/Documents/UdS/Master Thesis/Drugs/P1-05-Drug_disease.txt'\n",
    "output_file_path = \"C:/Users/areeba khan/Documents/UdS/Master Thesis/Drugs/lusc/ttd_drugs.txt\"\n",
    "\n",
    "approved_drugs = []\n",
    "\n",
    "# Read and parse the input file\n",
    "with open(input_file_path, 'r', encoding='utf-8', errors='ignore') as file:\n",
    "    lines = file.readlines()\n",
    "\n",
    "# Determine the start index for actual data\n",
    "start_index = 0\n",
    "for i, line in enumerate(lines):\n",
    "    if line.strip().startswith(\"TTDDRUID\"):\n",
    "        start_index = i + 1\n",
    "        break\n",
    "\n",
    "# Variables to keep track of current drug information\n",
    "current_drug = None\n",
    "is_approved = False\n",
    "\n",
    "# Process the relevant lines\n",
    "for line in lines[start_index:]:\n",
    "    # Check for drug name\n",
    "    if line.startswith(\"DRUGNAME\"):\n",
    "        current_drug = line.split('\\t')[1].strip()\n",
    "        is_approved = False  # Reset approval status for each new drug\n",
    "\n",
    "    if line.startswith(\"INDICATI\"):\n",
    "        parts = line.split('\\t')\n",
    "        # Check if 'Approved' is in either parts[3] or parts[4]\n",
    "        approval_status = parts[3] if len(parts) > 3 else ''\n",
    "        approval_status_4 = parts[4] if len(parts) > 4 else ''\n",
    "        indication = parts[1].strip()\n",
    "\n",
    "        # Check for both \"Lung cancer\" and \"Non-small cell lung cancer\" in the indication\n",
    "        if re.search(r\"(Lung cancer|Non-small-cell lung cancer)\", indication, re.IGNORECASE):\n",
    "            if \"Approved\" in approval_status or \"Approved\" in approval_status_4:\n",
    "                is_approved = True\n",
    "\n",
    "    # If drug is approved, add to the list\n",
    "    if current_drug and is_approved and re.search(r\"(Lung cancer|Non-small-cell lung cancer)\", indication, re.IGNORECASE):\n",
    "        approved_drugs.append(current_drug)\n",
    "        # Reset approval status after adding the drug\n",
    "        is_approved = False\n",
    "        current_drug = None\n",
    "\n",
    "# Write results to the output file\n",
    "with open(output_file_path, 'w') as file:\n",
    "    for drug in approved_drugs:\n",
    "        file.write(f\"{drug}\\n\")\n",
    "\n",
    "print(f\"Approved drugs have been written to {output_file_path}\") \n"
   ]
  },
  {
   "cell_type": "code",
   "execution_count": 55,
   "metadata": {},
   "outputs": [
    {
     "name": "stderr",
     "output_type": "stream",
     "text": [
      "c:\\Users\\areeba khan\\AppData\\Local\\Programs\\Python\\Python310\\lib\\site-packages\\cmapPy\\pandasGEXpress\\parse_gctx.py:275: FutureWarning: errors='ignore' is deprecated and will raise in a future version. Use to_numeric without passing `errors` and catch exceptions explicitly instead\n",
      "  meta_df = meta_df.apply(lambda x: pd.to_numeric(x, errors=\"ignore\"))\n",
      "c:\\Users\\areeba khan\\AppData\\Local\\Programs\\Python\\Python310\\lib\\site-packages\\cmapPy\\pandasGEXpress\\parse_gctx.py:275: FutureWarning: errors='ignore' is deprecated and will raise in a future version. Use to_numeric without passing `errors` and catch exceptions explicitly instead\n",
      "  meta_df = meta_df.apply(lambda x: pd.to_numeric(x, errors=\"ignore\"))\n",
      "C:\\Users\\areeba khan\\AppData\\Local\\Temp\\ipykernel_12816\\3325362207.py:33: SettingWithCopyWarning: \n",
      "A value is trying to be set on a copy of a slice from a DataFrame.\n",
      "Try using .loc[row_indexer,col_indexer] = value instead\n",
      "\n",
      "See the caveats in the documentation: https://pandas.pydata.org/pandas-docs/stable/user_guide/indexing.html#returning-a-view-versus-a-copy\n",
      "  mcf7_scores['pert_id'] = mcf7_scores['cid'].str.split(':', expand=True)[0]\n"
     ]
    }
   ],
   "source": [
    "import tarfile\n",
    "import os\n",
    "import glob\n",
    "from cmapPy.pandasGEXpress.parse import parse\n",
    "\n",
    "# Define the path to the folder containing the .tar.gz files\n",
    "folder_path = 'C:/Users/areeba khan/Documents/UdS/Master Thesis/CMAP_Output/prad/equal_set/degs/prad_100_degs.tar.gz'\n",
    "temp_extract_path = 'C:/Users/areeba khan/Documents/UdS/Master Thesis/CMAP_Output/prad/equal_set/degs/temp'  # Temp path to extract .gctx files\n",
    "\n",
    "if not os.path.exists(temp_extract_path):\n",
    "    os.makedirs(temp_extract_path)\n",
    "\n",
    "tar_gz_files = glob.glob(os.path.join(folder_path, '*.tar.gz'))\n",
    "with tarfile.open(folder_path, 'r:gz') as tar:\n",
    "    for member in tar.getmembers():\n",
    "        if member.name.endswith('/matrices/gutc/ps_pert_cell.gctx') and 'gutc/' in member.name:\n",
    "            # Extract the .gctx file temporarily to disk\n",
    "            gctx_file_path = os.path.join(temp_extract_path, os.path.basename(member.name))\n",
    "            with open(gctx_file_path, 'wb') as f_out:\n",
    "                f_out.write(tar.extractfile(member).read())\n",
    "\n",
    "            cmp_data = parse(gctx_file_path)\n",
    "            metadata = cmp_data.row_metadata_df\n",
    "            cmap_scores = cmp_data.data_df\n",
    "\n",
    "            metadata.reset_index(drop = True, inplace = True)\n",
    "            mcf7_brd_df = metadata[metadata['pert_id'].str.contains('BRD') & metadata['cell_id'].str.contains('PC3') & metadata['pert_type'].str.contains('trt_cp')]\n",
    "            \n",
    "            cmap_scores.reset_index(inplace=True)\n",
    "            cmap_scores.columns = [\"cid\", \"TAG\"]\n",
    "\n",
    "            mcf7_scores = cmap_scores[cmap_scores['cid'].str.contains('BRD') & cmap_scores['cid'].str.contains('PC3')]\n",
    "            mcf7_scores['pert_id'] = mcf7_scores['cid'].str.split(':', expand=True)[0]\n",
    "\n",
    "            merged_df = pd.merge(mcf7_scores, mcf7_brd_df[['pert_id', 'pert_iname', 'pert_type']], on='pert_id')\n",
    "            final_df = merged_df[['pert_id', 'pert_iname', 'TAG']]\n",
    "\n",
    "            os.remove(gctx_file_path)\n",
    "\n"
   ]
  },
  {
   "cell_type": "code",
   "execution_count": 56,
   "metadata": {},
   "outputs": [],
   "source": [
    "with open(\"C:/Users/areeba khan/Documents/UdS/Master Thesis/CMAP_Output/prad/prad_cmap_cmps.txt\", \"w\") as f:\n",
    "    for cmp in final_df[\"pert_iname\"].tolist():\n",
    "        f.write(cmp.lower() + \"\\n\")"
   ]
  },
  {
   "cell_type": "markdown",
   "metadata": {},
   "source": [
    "# CMAP Filtering"
   ]
  },
  {
   "cell_type": "code",
   "execution_count": 3,
   "metadata": {},
   "outputs": [],
   "source": [
    "def read_gctx_file(file):\n",
    "    cmp_data = parse(file)\n",
    "    metadata = cmp_data.row_metadata_df\n",
    "    cmap_scores = cmp_data.data_df\n",
    "    # cmapdrugs_scores\n",
    "\n",
    "    metadata.reset_index(drop = True, inplace = True)\n",
    "    mcf7_brd_df = metadata[metadata['pert_id'].str.contains('BRD') & metadata['cell_id'].str.contains('MCF7') & metadata['pert_type'].str.contains('trt_cp')]\n",
    "    \n",
    "    cmap_scores.reset_index(inplace=True)\n",
    "    cmap_scores.columns = [\"cid\", \"TAG\"]\n",
    "\n",
    "    mcf7_scores = cmap_scores[cmap_scores['cid'].str.contains('BRD') & cmap_scores['cid'].str.contains('MCF7')]\n",
    "    mcf7_scores['pert_id'] = mcf7_scores['cid'].str.split(':', expand=True)[0]\n",
    "\n",
    "    merged_df = pd.merge(mcf7_scores, mcf7_brd_df[['pert_id', 'pert_iname', 'pert_type']], on='pert_id')\n",
    "    final_df = merged_df[['pert_id', 'pert_iname', 'TAG']]\n",
    "    cmap_name_cids = pd.read_csv(\"cmap_cmps_cids.txt\", header=None, sep=\"\\t\")\n",
    "\n",
    "    cmap_name_cids.columns = ['pert_iname', 'cid']\n",
    "\n",
    "    cmap_name_cids['pert_iname'] = cmap_name_cids['pert_iname'].str.lower()\n",
    "\n",
    "    cmap_name_cids.drop_duplicates(inplace=True)\n",
    "\n",
    "    cmap_name_cids = cmap_name_cids.dropna(subset=['cid'])\n",
    "\n",
    "    cmap_name_cids = cmap_name_cids.groupby('pert_iname')['cid'].agg(lambda x: ','.join(x.astype(str).unique())).reset_index()\n",
    "    cmap_name_cids['pert_iname'] = cmap_name_cids['pert_iname'].str.lower()\n",
    "\n",
    "    final_df['pert_iname'] = final_df['pert_iname'].str.lower()\n",
    "    cmap = pd.merge(cmap_name_cids, final_df[['pert_id', 'pert_iname', 'TAG']], on='pert_iname')\n",
    "\n",
    "    cmap['pert_iname'] = cmap['pert_iname'].str.lower()\n",
    "\n",
    "    cmap_grouped = cmap.groupby(['pert_iname', 'TAG'], as_index=False).agg({\n",
    "        'cid': lambda x: ','.join(x)\n",
    "    })\n",
    "\n",
    "    cmap = cmap_grouped.drop_duplicates()\n",
    "\n",
    "    def unique_join(val):\n",
    "        cids = val.split(',')\n",
    "        cids = [str(int(float(cid))) for cid in cids]\n",
    "        return ','.join(sorted(set(cids)))\n",
    "\n",
    "    cmap['cid'] = cmap['cid'].apply(unique_join)\n",
    "\n",
    "    cmap.reset_index(drop=True, inplace=True)\n",
    "\n",
    "    return cmap"
   ]
  },
  {
   "cell_type": "markdown",
   "metadata": {},
   "source": [
    "## DRUG Filtering"
   ]
  },
  {
   "cell_type": "code",
   "execution_count": 4,
   "metadata": {},
   "outputs": [],
   "source": [
    "def drug_filter(cid_file, ref_drug):\n",
    "    with open(cid_file, \"r\") as file:\n",
    "        lines = file.readlines()\n",
    "\n",
    "    drugs = []\n",
    "    ids = []\n",
    "\n",
    "    for line in lines:\n",
    "        parts = line.strip().split(\"\\t\")\n",
    "        if len(parts) == 2:\n",
    "            drugs.append(parts[0].lower())\n",
    "            ids.append(parts[1])\n",
    "\n",
    "    df = pd.DataFrame({\"Drug\": drugs, \"Cid\": ids})\n",
    "\n",
    "    # df.dropna(inplace=True)\n",
    "    # df.reset_index(drop=True, inplace=True)\n",
    "    df = df.groupby('Drug')['Cid'].agg(lambda x: ','.join(x.astype(str).unique())).reset_index()\n",
    "    df['Drug'] = df['Drug'].str.lower()\n",
    "    df_merge = pd.merge(df, ref_drug[\"Drug\"], on = \"Drug\")\n",
    "    return df_merge"
   ]
  },
  {
   "cell_type": "code",
   "execution_count": 5,
   "metadata": {},
   "outputs": [],
   "source": [
    "def remove_drug(drug_df, cmap):\n",
    "    keep = []\n",
    "    for i in range(len(drug_df)):\n",
    "        cids = drug_df.iloc[i, 1].split(\",\") \n",
    "        for k in range(len(cmap)):\n",
    "            cids_cmap = str(cmap.iloc[k, 2])\n",
    "            # print(cids_cmap)\n",
    "            if isinstance(cids_cmap, str):\n",
    "                cids_cmap = cids_cmap.split(\",\")\n",
    "                if any(cid in cids_cmap for cid in cids):\n",
    "                    keep.append(i)\n",
    "                    break\n",
    "\n",
    "    filtered_drug = drug_df.iloc[keep]\n",
    "    return filtered_drug"
   ]
  },
  {
   "cell_type": "code",
   "execution_count": 6,
   "metadata": {},
   "outputs": [],
   "source": [
    "def function_call(file):    \n",
    "    cmap = read_gctx_file(file)\n",
    "    ttd_drug = pd.read_csv(\"C:/Users/areeba khan/Documents/UdS/Master Thesis/Drugs/ttd_drugs.txt\", sep=\"\\t\", header=None, names = [\"Drug\", \"ID\"])\n",
    "    ttd_drug.iloc[:, 0] = ttd_drug.iloc[:, 0].str.lower()\n",
    "    ttd_drug.drop_duplicates(inplace=True)\n",
    "\n",
    "    nci_ref_drugs = pd.read_csv(\"C:/Users/areeba khan/Documents/UdS/Master Thesis/Drugs/nci_drugs.txt\", sep=\"\\t\", header=None, names = [\"Drug\"])\n",
    "    nci_ref_drugs.iloc[:, 0] = nci_ref_drugs.iloc[:, 0].str.lower()\n",
    "    nci_ref_drugs.drop_duplicates(inplace=True)\n",
    "\n",
    "    # print(\"TTD Drugs:\")\n",
    "    # print(ttd_drug)\n",
    "    # print(\"NCI Drugs:\")\n",
    "    # print(nci_ref_drugs)\n",
    "\n",
    "    ttd_drug_cids = drug_filter(\"C:/Users/areeba khan/Documents/UdS/Master Thesis/Drugs/ttd_cid.txt\", ttd_drug)\n",
    "    nci_drug_cids = drug_filter(\"C:/Users/areeba khan/Documents/UdS/Master Thesis/Drugs/nci_cid.txt\", nci_ref_drugs)\n",
    "\n",
    "    nci = remove_drug(nci_drug_cids, cmap)\n",
    "    ttd = remove_drug(ttd_drug_cids, cmap)\n",
    "\n",
    "    approved_drugs = pd.concat([ttd, nci], ignore_index=True)\n",
    "    approved_drugs['Drug'] = approved_drugs['Drug'].str.lower()\n",
    "    approved_drugs = approved_drugs.groupby('Drug')['Cid'].apply(lambda x: ','.join(x)).reset_index()\n",
    "\n",
    "    approved_drugs.drop_duplicates(inplace=True)\n",
    "\n",
    "    approved_drugs['Cid'] = approved_drugs['Cid'].apply(lambda x: ','.join(set(x.split(','))))\n",
    "\n",
    "    keep = []\n",
    "    for i in range(len(approved_drugs)):\n",
    "        cids = set(approved_drugs.iloc[i, 1].split(','))\n",
    "        for k in range(len(approved_drugs)):\n",
    "            cids_cmap = set(approved_drugs.iloc[k, 1].split(','))\n",
    "            cut = cids.intersection(cids_cmap)\n",
    "            if cut and len(cids) < len(cids_cmap):\n",
    "                keep.append(i)\n",
    "                break\n",
    "\n",
    "    if keep:\n",
    "        approved_drugs = approved_drugs.drop(keep).reset_index(drop=True)\n",
    "    \n",
    "    cmap_grouped_sorted = cmap.sort_values(by='TAG', ascending=True).reset_index(drop=True)\n",
    "\n",
    "    return cmap_grouped_sorted, approved_drugs"
   ]
  },
  {
   "cell_type": "markdown",
   "metadata": {},
   "source": [
    "# Overlap Coefficient Relevant Compounds"
   ]
  },
  {
   "cell_type": "code",
   "execution_count": 7,
   "metadata": {},
   "outputs": [
    {
     "name": "stderr",
     "output_type": "stream",
     "text": [
      "c:\\Users\\areeba khan\\AppData\\Local\\Programs\\Python\\Python310\\lib\\site-packages\\cmapPy\\pandasGEXpress\\parse_gctx.py:275: FutureWarning: errors='ignore' is deprecated and will raise in a future version. Use to_numeric without passing `errors` and catch exceptions explicitly instead\n",
      "  meta_df = meta_df.apply(lambda x: pd.to_numeric(x, errors=\"ignore\"))\n",
      "c:\\Users\\areeba khan\\AppData\\Local\\Programs\\Python\\Python310\\lib\\site-packages\\cmapPy\\pandasGEXpress\\parse_gctx.py:275: FutureWarning: errors='ignore' is deprecated and will raise in a future version. Use to_numeric without passing `errors` and catch exceptions explicitly instead\n",
      "  meta_df = meta_df.apply(lambda x: pd.to_numeric(x, errors=\"ignore\"))\n",
      "C:\\Users\\areeba khan\\AppData\\Local\\Temp\\ipykernel_26864\\1915819458.py:14: SettingWithCopyWarning: \n",
      "A value is trying to be set on a copy of a slice from a DataFrame.\n",
      "Try using .loc[row_indexer,col_indexer] = value instead\n",
      "\n",
      "See the caveats in the documentation: https://pandas.pydata.org/pandas-docs/stable/user_guide/indexing.html#returning-a-view-versus-a-copy\n",
      "  mcf7_scores['pert_id'] = mcf7_scores['cid'].str.split(':', expand=True)[0]\n",
      "C:\\Users\\areeba khan\\AppData\\Local\\Temp\\ipykernel_26864\\1915819458.py:31: SettingWithCopyWarning: \n",
      "A value is trying to be set on a copy of a slice from a DataFrame.\n",
      "Try using .loc[row_indexer,col_indexer] = value instead\n",
      "\n",
      "See the caveats in the documentation: https://pandas.pydata.org/pandas-docs/stable/user_guide/indexing.html#returning-a-view-versus-a-copy\n",
      "  final_df['pert_iname'] = final_df['pert_iname'].str.lower()\n"
     ]
    }
   ],
   "source": [
    "cmap_100_deg, approved_drugs = function_call(\"ps_pert_cell.gctx\")\n",
    "# cmap_150_deg, approved_drugs = function_call(\"DEGs/variable_size/top_150_degs/ps_pert_cell.gctx\")\n",
    "# cmap_200_deg, approved_drugs = function_call(\"DEGs/variable_size/top_200_degs/ps_pert_cell.gctx\")\n",
    "# cmap_300_deg, approved_drugs = function_call(\"DEGs/variable_size/top_300_degs/ps_pert_cell.gctx\")\n"
   ]
  },
  {
   "cell_type": "code",
   "execution_count": 8,
   "metadata": {},
   "outputs": [],
   "source": [
    "overlap_100 = {}\n",
    "overlap_150 = {}\n",
    "overlap_200 = {}\n",
    "overlap_300 = {}"
   ]
  },
  {
   "cell_type": "code",
   "execution_count": 43,
   "metadata": {},
   "outputs": [],
   "source": [
    "def overlap_coefficient_relevant(compound_df, approved_drugs_df):\n",
    "    # Filter compounds with TAG value <= -95\n",
    "    filtered_compound_df = compound_df[compound_df['TAG'] <= -95]\n",
    "    \n",
    "    count = 0\n",
    "    \n",
    "    for i, row in filtered_compound_df.iterrows():\n",
    "        cids = str(row['cid']).split(\",\")\n",
    "        for j, approved_row in approved_drugs_df.iterrows():\n",
    "            cids_cmap = str(approved_row['Cid']).split(\",\")\n",
    "            if any(cid in cids_cmap for cid in cids):\n",
    "                count += 1\n",
    "                break\n",
    "    \n",
    "    min_size = min(len(filtered_compound_df), len(approved_drugs_df))\n",
    "    coeff = count / min_size if min_size > 0 else 0\n",
    "    return round(coeff * 100)\n",
    "\n",
    "overlap_100[\"100 Variable MDS\"] = overlap_coefficient_relevant(cmap_100_deg, approved_drugs)\n",
    "overlap_150[\"150 Variable MDS\"] = overlap_coefficient_relevant(cmap_150_deg, approved_drugs)\n",
    "overlap_200[\"Full Set MDS\"] = overlap_coefficient_relevant(cmap_200_deg, approved_drugs)\n",
    "overlap_300[\"300 Variable DEGs\"] = overlap_coefficient_relevant(cmap_300_deg, approved_drugs)\n"
   ]
  },
  {
   "cell_type": "code",
   "execution_count": 48,
   "metadata": {},
   "outputs": [
    {
     "data": {
      "text/plain": [
       "{'100 Variable DEGs': 4}"
      ]
     },
     "execution_count": 48,
     "metadata": {},
     "output_type": "execute_result"
    }
   ],
   "source": [
    "overlap_100"
   ]
  },
  {
   "cell_type": "code",
   "execution_count": 44,
   "metadata": {},
   "outputs": [
    {
     "data": {
      "image/png": "[encoded data removed]",
      "text/plain": [
       "<Figure size 1440x720 with 1 Axes>"
      ]
     },
     "metadata": {
      "needs_background": "light"
     },
     "output_type": "display_data"
    }
   ],
   "source": [
    "overlap_results = {**overlap_100, **overlap_150, **overlap_200, **overlap_300}\n",
    "\n",
    "# Plotting the results\n",
    "fig, ax = plt.subplots(figsize=(20, 10))  # Adjust the size here\n",
    "colors = ['lightblue', 'lightgreen', '#ffd699', '#ff9999']  # Define the colors for each bar\n",
    "ax.bar(overlap_results.keys(), overlap_results.values(), color=colors)\n",
    "\n",
    "# Setting the labels and title\n",
    "ax.set_xlabel('Variable Set Size DEGs')\n",
    "ax.set_ylabel('Overlap Coefficient (%)')\n",
    "ax.set_title('Overlap Coefficient for Different Variable Size Sets DEGs')\n",
    "plt.ylim(0, 45) \n",
    "# Show the plot\n",
    "plt.show()"
   ]
  },
  {
   "cell_type": "markdown",
   "metadata": {},
   "source": [
    "# Overlap Coefficient"
   ]
  },
  {
   "cell_type": "code",
   "execution_count": 58,
   "metadata": {},
   "outputs": [
    {
     "name": "stderr",
     "output_type": "stream",
     "text": [
      "c:\\Users\\areeba khan\\AppData\\Local\\Programs\\Python\\Python310\\lib\\site-packages\\cmapPy\\pandasGEXpress\\parse_gctx.py:275: FutureWarning: errors='ignore' is deprecated and will raise in a future version. Use to_numeric without passing `errors` and catch exceptions explicitly instead\n",
      "  meta_df = meta_df.apply(lambda x: pd.to_numeric(x, errors=\"ignore\"))\n",
      "c:\\Users\\areeba khan\\AppData\\Local\\Programs\\Python\\Python310\\lib\\site-packages\\cmapPy\\pandasGEXpress\\parse_gctx.py:275: FutureWarning: errors='ignore' is deprecated and will raise in a future version. Use to_numeric without passing `errors` and catch exceptions explicitly instead\n",
      "  meta_df = meta_df.apply(lambda x: pd.to_numeric(x, errors=\"ignore\"))\n",
      "C:\\Users\\areeba khan\\AppData\\Local\\Temp\\ipykernel_27820\\1915819458.py:14: SettingWithCopyWarning: \n",
      "A value is trying to be set on a copy of a slice from a DataFrame.\n",
      "Try using .loc[row_indexer,col_indexer] = value instead\n",
      "\n",
      "See the caveats in the documentation: https://pandas.pydata.org/pandas-docs/stable/user_guide/indexing.html#returning-a-view-versus-a-copy\n",
      "  mcf7_scores['pert_id'] = mcf7_scores['cid'].str.split(':', expand=True)[0]\n",
      "C:\\Users\\areeba khan\\AppData\\Local\\Temp\\ipykernel_27820\\1915819458.py:31: SettingWithCopyWarning: \n",
      "A value is trying to be set on a copy of a slice from a DataFrame.\n",
      "Try using .loc[row_indexer,col_indexer] = value instead\n",
      "\n",
      "See the caveats in the documentation: https://pandas.pydata.org/pandas-docs/stable/user_guide/indexing.html#returning-a-view-versus-a-copy\n",
      "  final_df['pert_iname'] = final_df['pert_iname'].str.lower()\n",
      "c:\\Users\\areeba khan\\AppData\\Local\\Programs\\Python\\Python310\\lib\\site-packages\\cmapPy\\pandasGEXpress\\parse_gctx.py:275: FutureWarning: errors='ignore' is deprecated and will raise in a future version. Use to_numeric without passing `errors` and catch exceptions explicitly instead\n",
      "  meta_df = meta_df.apply(lambda x: pd.to_numeric(x, errors=\"ignore\"))\n",
      "c:\\Users\\areeba khan\\AppData\\Local\\Programs\\Python\\Python310\\lib\\site-packages\\cmapPy\\pandasGEXpress\\parse_gctx.py:275: FutureWarning: errors='ignore' is deprecated and will raise in a future version. Use to_numeric without passing `errors` and catch exceptions explicitly instead\n",
      "  meta_df = meta_df.apply(lambda x: pd.to_numeric(x, errors=\"ignore\"))\n",
      "C:\\Users\\areeba khan\\AppData\\Local\\Temp\\ipykernel_27820\\1915819458.py:14: SettingWithCopyWarning: \n",
      "A value is trying to be set on a copy of a slice from a DataFrame.\n",
      "Try using .loc[row_indexer,col_indexer] = value instead\n",
      "\n",
      "See the caveats in the documentation: https://pandas.pydata.org/pandas-docs/stable/user_guide/indexing.html#returning-a-view-versus-a-copy\n",
      "  mcf7_scores['pert_id'] = mcf7_scores['cid'].str.split(':', expand=True)[0]\n",
      "C:\\Users\\areeba khan\\AppData\\Local\\Temp\\ipykernel_27820\\1915819458.py:31: SettingWithCopyWarning: \n",
      "A value is trying to be set on a copy of a slice from a DataFrame.\n",
      "Try using .loc[row_indexer,col_indexer] = value instead\n",
      "\n",
      "See the caveats in the documentation: https://pandas.pydata.org/pandas-docs/stable/user_guide/indexing.html#returning-a-view-versus-a-copy\n",
      "  final_df['pert_iname'] = final_df['pert_iname'].str.lower()\n",
      "c:\\Users\\areeba khan\\AppData\\Local\\Programs\\Python\\Python310\\lib\\site-packages\\cmapPy\\pandasGEXpress\\parse_gctx.py:275: FutureWarning: errors='ignore' is deprecated and will raise in a future version. Use to_numeric without passing `errors` and catch exceptions explicitly instead\n",
      "  meta_df = meta_df.apply(lambda x: pd.to_numeric(x, errors=\"ignore\"))\n",
      "c:\\Users\\areeba khan\\AppData\\Local\\Programs\\Python\\Python310\\lib\\site-packages\\cmapPy\\pandasGEXpress\\parse_gctx.py:275: FutureWarning: errors='ignore' is deprecated and will raise in a future version. Use to_numeric without passing `errors` and catch exceptions explicitly instead\n",
      "  meta_df = meta_df.apply(lambda x: pd.to_numeric(x, errors=\"ignore\"))\n",
      "C:\\Users\\areeba khan\\AppData\\Local\\Temp\\ipykernel_27820\\1915819458.py:14: SettingWithCopyWarning: \n",
      "A value is trying to be set on a copy of a slice from a DataFrame.\n",
      "Try using .loc[row_indexer,col_indexer] = value instead\n",
      "\n",
      "See the caveats in the documentation: https://pandas.pydata.org/pandas-docs/stable/user_guide/indexing.html#returning-a-view-versus-a-copy\n",
      "  mcf7_scores['pert_id'] = mcf7_scores['cid'].str.split(':', expand=True)[0]\n",
      "C:\\Users\\areeba khan\\AppData\\Local\\Temp\\ipykernel_27820\\1915819458.py:31: SettingWithCopyWarning: \n",
      "A value is trying to be set on a copy of a slice from a DataFrame.\n",
      "Try using .loc[row_indexer,col_indexer] = value instead\n",
      "\n",
      "See the caveats in the documentation: https://pandas.pydata.org/pandas-docs/stable/user_guide/indexing.html#returning-a-view-versus-a-copy\n",
      "  final_df['pert_iname'] = final_df['pert_iname'].str.lower()\n"
     ]
    }
   ],
   "source": [
    "cmap_100_mds, approved_drugs = function_call(\"MDS/variable_size/top_100_mds/ps_pert_cell.gctx\")\n",
    "cmap_50_mds, approved_drugs = function_call(\"MDS/variable_size/top_50_mds/ps_pert_cell.gctx\")\n",
    "cmap_full_mds, approved_drugs = function_call(\"MDS/variable_size/full/ps_pert_cell.gctx\")\n"
   ]
  },
  {
   "cell_type": "code",
   "execution_count": 70,
   "metadata": {},
   "outputs": [],
   "source": [
    "overlap_100[\"100 Variable MDS\"] = overlap_coefficient_relevant(cmap_100_mds, approved_drugs)\n",
    "overlap_150[\"50 Variable MDS\"] = overlap_coefficient_relevant(cmap_50_mds, approved_drugs)\n",
    "overlap_200[\"Full Set MDS\"] = overlap_coefficient_relevant(cmap_full_mds, approved_drugs)"
   ]
  },
  {
   "cell_type": "code",
   "execution_count": 71,
   "metadata": {},
   "outputs": [
    {
     "data": {
      "image/png": "[encoded data removed]",
      "text/plain": [
       "<Figure size 1440x720 with 1 Axes>"
      ]
     },
     "metadata": {
      "needs_background": "light"
     },
     "output_type": "display_data"
    }
   ],
   "source": [
    "overlap_results = {**overlap_150, **overlap_100, **overlap_200}\n",
    "\n",
    "# Plotting the results\n",
    "fig, ax = plt.subplots(figsize=(20, 10))  # Adjust the size here\n",
    "colors = ['lightblue', 'lightgreen', '#ffd699', '#ff9999']  # Define the colors for each bar\n",
    "ax.bar(overlap_results.keys(), overlap_results.values(), color=colors)\n",
    "\n",
    "# Setting the labels and title\n",
    "ax.set_xlabel('Variable Set Size DEGs')\n",
    "ax.set_ylabel('Overlap Coefficient (%)')\n",
    "ax.set_title('Overlap Coefficient for Different Variable Size Sets DEGs')\n",
    "plt.ylim(0, 45) \n",
    "# Show the plot\n",
    "plt.show()"
   ]
  },
  {
   "cell_type": "code",
   "execution_count": 9,
   "metadata": {},
   "outputs": [],
   "source": [
    "overlap_100_coeff = {}\n",
    "overlap_150_coeff = {}\n",
    "overlap_200_coeff = {}\n",
    "overlap_300_coeff = {}"
   ]
  },
  {
   "cell_type": "code",
   "execution_count": 11,
   "metadata": {},
   "outputs": [
    {
     "name": "stdout",
     "output_type": "stream",
     "text": [
      "{'Top 10 Compounds Overlap': 0, 'Top 20 Compounds Overlap': 0, 'Top 50 Compounds Overlap': 4, 'Top 100 Compounds Overlap': 7, 'Top 150 Compounds Overlap': 7, 'Top 200 Compounds Overlap': 14}\n"
     ]
    }
   ],
   "source": [
    "def overlap_coefficient(compound_df, approved_drugs_df, n):\n",
    "    count = 0\n",
    "    first_n_items = compound_df.head(n)\n",
    "    \n",
    "    for i, row in first_n_items.iterrows():\n",
    "        cids = str(row['cid']).split(\",\")\n",
    "        for j, approved_row in approved_drugs_df.iterrows():\n",
    "            cids_cmap = str(approved_row['Cid']).split(\",\")\n",
    "            if any(cid in cids_cmap for cid in cids):\n",
    "                count += 1\n",
    "                break\n",
    "    \n",
    "    min_size = min(len(first_n_items), len(approved_drugs_df))\n",
    "    # print(count)\n",
    "    coeff = count / min_size\n",
    "    return round(coeff * 100)\n",
    "\n",
    "for n in [10, 20, 50, 100, 150, 200]:\n",
    "    score = overlap_coefficient(cmap_100_deg, approved_drugs, n)\n",
    "    overlap_200_coeff[f'Top {n} Compounds Overlap'] = score\n",
    "    # print(score)\n",
    "# print(overlap_200_coeff)\n"
   ]
  },
  {
   "cell_type": "code",
   "execution_count": 56,
   "metadata": {},
   "outputs": [],
   "source": [
    "def overlap_plot(dicts):\n",
    "    x_values = [10, 20, 50, 100, 150, 200]\n",
    "    labels = [\"100 MDS of variable size\", \"50 MDS of variable size\", \"200 Hub of variable size\", \"300 Hub of variable size\"]\n",
    "\n",
    "    fig, ax = plt.subplots(figsize=(15, 9))\n",
    "    plt.subplots_adjust(bottom=0.2)\n",
    "    \n",
    "    for i, data_dict in enumerate(dicts, start=1):\n",
    "        label = labels[i-1] if i <= len(labels) else f'Dataset {i}'\n",
    "        y_values = []\n",
    "        for x in x_values:\n",
    "            key = f'Top {x} Compounds Overlap'\n",
    "            if key in data_dict:\n",
    "                y_values.append(data_dict[key])\n",
    "            else:\n",
    "                y_values.append(0)  \n",
    "        plt.plot(x_values, y_values, marker='s', label=label)\n",
    "\n",
    "    plt.xlabel('Cmap N Compounds')\n",
    "    plt.ylabel('Overlap Coefficient (%)')\n",
    "    plt.title('Overlap of Top N Compounds')\n",
    "    plt.grid(True)\n",
    "    plt.xticks(x_values) \n",
    "    plt.legend()\n",
    "    plt.ylim(0, 55) \n",
    "    plt.show()\n"
   ]
  },
  {
   "cell_type": "code",
   "execution_count": 57,
   "metadata": {},
   "outputs": [
    {
     "data": {
      "image/png": "[encoded data removed]",
      "text/plain": [
       "<Figure size 1080x648 with 1 Axes>"
      ]
     },
     "metadata": {
      "needs_background": "light"
     },
     "output_type": "display_data"
    }
   ],
   "source": [
    "overlap_plot([overlap_100_coeff, overlap_150_coeff])"
   ]
  },
  {
   "cell_type": "code",
   "execution_count": null,
   "metadata": {},
   "outputs": [],
   "source": [
    "### For Full Sets\n",
    "\n",
    "x_values = [10, 20, 50, 100, 150, 200]\n",
    "y_values = []\n",
    "\n",
    "for x in x_values:\n",
    "    key = f'Top {x} Compounds Overlap'\n",
    "    if key in overlap_200_coeff:\n",
    "        y_values.append(overlap_200_coeff[key])\n",
    "    else:\n",
    "        y_values.append(0)  \n",
    "\n",
    "fig, ax = plt.subplots(figsize=(15, 9))\n",
    "plt.subplots_adjust(bottom=0.2)\n",
    "\n",
    "plt.plot(x_values, y_values, marker='s', label='Full MDS Gene Set')\n",
    "\n",
    "plt.xlabel('Cmap N Compounds')\n",
    "plt.ylabel('Overlap Coefficient (%)')\n",
    "plt.title('Overlap of Top N Compounds')\n",
    "plt.grid(True)\n",
    "plt.xticks(x_values) \n",
    "plt.legend()\n",
    "plt.ylim(0, 55)\n",
    "plt.show()\n"
   ]
  }
 ],
 "metadata": {
  "kernelspec": {
   "display_name": "Python 3",
   "language": "python",
   "name": "python3"
  },
  "language_info": {
   "codemirror_mode": {
    "name": "ipython",
    "version": 3
   },
   "file_extension": ".py",
   "mimetype": "text/x-python",
   "name": "python",
   "nbconvert_exporter": "python",
   "pygments_lexer": "ipython3",
   "version": "3.10.0"
  }
 },
 "nbformat": 4,
 "nbformat_minor": 2
}
