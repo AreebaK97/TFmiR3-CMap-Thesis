{
 "cells": [
  {
   "cell_type": "code",
   "execution_count": 2,
   "metadata": {},
   "outputs": [],
   "source": [
    "import tarfile\n",
    "import os\n",
    "import glob\n",
    "import pandas as pd\n",
    "import matplotlib.pyplot as plt\n",
    "from cmapPy.pandasGEXpress.parse import parse\n",
    "from functools import reduce\n"
   ]
  },
  {
   "cell_type": "code",
   "execution_count": 3,
   "metadata": {},
   "outputs": [
    {
     "name": "stderr",
     "output_type": "stream",
     "text": [
      "c:\\Users\\areeba khan\\AppData\\Local\\Programs\\Python\\Python310\\lib\\site-packages\\cmapPy\\pandasGEXpress\\parse_gctx.py:275: FutureWarning: errors='ignore' is deprecated and will raise in a future version. Use to_numeric without passing `errors` and catch exceptions explicitly instead\n",
      "  meta_df = meta_df.apply(lambda x: pd.to_numeric(x, errors=\"ignore\"))\n",
      "c:\\Users\\areeba khan\\AppData\\Local\\Programs\\Python\\Python310\\lib\\site-packages\\cmapPy\\pandasGEXpress\\parse_gctx.py:275: FutureWarning: errors='ignore' is deprecated and will raise in a future version. Use to_numeric without passing `errors` and catch exceptions explicitly instead\n",
      "  meta_df = meta_df.apply(lambda x: pd.to_numeric(x, errors=\"ignore\"))\n",
      "C:\\Users\\areeba khan\\AppData\\Local\\Temp\\ipykernel_14080\\1679234240.py:15: SettingWithCopyWarning: \n",
      "A value is trying to be set on a copy of a slice from a DataFrame.\n",
      "Try using .loc[row_indexer,col_indexer] = value instead\n",
      "\n",
      "See the caveats in the documentation: https://pandas.pydata.org/pandas-docs/stable/user_guide/indexing.html#returning-a-view-versus-a-copy\n",
      "  mcf7_scores.loc[:, 'pert_id'] = mcf7_scores['cid'].str.split(':', expand=True)[0]\n"
     ]
    }
   ],
   "source": [
    "cancer_celllines = {\"brca\" : \"MCF7\", \"luad\": \"A549\", \"lusc\" : \"A549\", \"lihc\" : \"HEPG2\", \"prad\" : \"PC3\", \"coad\" : \"HT29\"}\n",
    "cmp_data = parse(\"C:\\\\Users\\\\areeba khan\\\\Documents\\\\UdS\\\\Master Thesis\\\\CMAP_Output\\\\coad\\\\ps_pert_cell.gctx\")\n",
    "metadata = cmp_data.row_metadata_df\n",
    "cmap_scores = cmp_data.data_df\n",
    "# cmapdrugs_scores\n",
    "cell_line = cancer_celllines[\"prad\"]\n",
    "metadata.reset_index(drop = True, inplace = True)\n",
    "mcf7_brd_df = metadata[metadata['pert_id'].str.contains('BRD') & metadata['cell_id'].str.contains(cell_line) & metadata['pert_type'].str.contains('trt_cp')]\n",
    "\n",
    "cmap_scores.reset_index(inplace=True)\n",
    "cmap_scores.columns = [\"cid\", \"TAG\"]\n",
    "\n",
    "mcf7_scores = cmap_scores[cmap_scores['cid'].str.contains('BRD') & cmap_scores['cid'].str.contains(cell_line)]\n",
    "# mcf7_scores['pert_id'] = mcf7_scores['cid'].str.split(':', expand=True)[0]\n",
    "mcf7_scores.loc[:, 'pert_id'] = mcf7_scores['cid'].str.split(':', expand=True)[0]\n",
    "\n",
    "merged_df = pd.merge(mcf7_scores, mcf7_brd_df[['pert_id', 'pert_iname', 'pert_type']], on='pert_id')"
   ]
  },
  {
   "cell_type": "code",
   "execution_count": 6,
   "metadata": {},
   "outputs": [],
   "source": [
    "merged_df[\"pert_iname\"].to_csv(\"C:\\\\Users\\\\areeba khan\\\\Documents\\\\UdS\\\\Master Thesis\\\\CMAP_Output\\\\all_prad\\\\prad_cmap_cmps.txt\", index = False, header = False)"
   ]
  },
  {
   "cell_type": "code",
   "execution_count": 27,
   "metadata": {},
   "outputs": [
    {
     "name": "stdout",
     "output_type": "stream",
     "text": [
      "                            pert_iname         cid        pert_id        TAG\n",
      "0     1,2,3,4,5,6-hexabromocyclohexane     74603.0  BRD-K06817181 -19.991278\n",
      "1                  1,2-dichlorobenzene      7239.0  BRD-K74430258   0.000000\n",
      "2                    1-benzylimidazole     77918.0  BRD-K32795028  61.190712\n",
      "3                       1-monopalmitin     14900.0  BRD-A80928489 -40.814514\n",
      "4                    1-phenylbiguanide      4780.0  BRD-K31491153  52.198452\n",
      "...                                ...         ...            ...        ...\n",
      "2453                        zonisamide      5734.0  BRD-K48300629   1.236632\n",
      "2454                        zosuquidar   3036703.0  BRD-K70557564   0.000000\n",
      "2455                      zoxazolamine      6103.0  BRD-K66353228  22.357698\n",
      "2456                          zstk-474  11647372.0  BRD-K63068307 -94.824883\n",
      "2457                    zuclopenthixol   5311507.0  BRD-K28761384  52.662762\n",
      "\n",
      "[2458 rows x 4 columns]\n"
     ]
    },
    {
     "name": "stderr",
     "output_type": "stream",
     "text": [
      "C:\\Users\\areeba khan\\AppData\\Local\\Temp\\ipykernel_14592\\1018334190.py:15: SettingWithCopyWarning: \n",
      "A value is trying to be set on a copy of a slice from a DataFrame.\n",
      "Try using .loc[row_indexer,col_indexer] = value instead\n",
      "\n",
      "See the caveats in the documentation: https://pandas.pydata.org/pandas-docs/stable/user_guide/indexing.html#returning-a-view-versus-a-copy\n",
      "  final_df['pert_iname'] = final_df['pert_iname'].str.lower()\n"
     ]
    }
   ],
   "source": [
    "final_df = merged_df[['pert_id', 'pert_iname', 'TAG']]\n",
    "cmap_name_cids = pd.read_csv(f\"C:/Users/areeba khan/Documents/UdS/Master Thesis/CMAP_Output/brca/brca_cmap_cmps_cid.txt\", header=None, sep=\"\\t\")\n",
    "\n",
    "cmap_name_cids.columns = ['pert_iname', 'cid']\n",
    "\n",
    "cmap_name_cids['pert_iname'] = cmap_name_cids['pert_iname'].str.lower()\n",
    "\n",
    "cmap_name_cids.drop_duplicates(inplace=True)\n",
    "\n",
    "cmap_name_cids = cmap_name_cids.dropna(subset=['cid'])\n",
    "\n",
    "cmap_name_cids = cmap_name_cids.groupby('pert_iname')['cid'].agg(lambda x: ','.join(x.astype(str).unique())).reset_index()\n",
    "cmap_name_cids['pert_iname'] = cmap_name_cids['pert_iname'].str.lower()\n",
    "\n",
    "final_df['pert_iname'] = final_df['pert_iname'].str.lower()\n",
    "cmap = pd.merge(cmap_name_cids, final_df[['pert_id', 'pert_iname', 'TAG']], on='pert_iname')\n",
    "print(cmap)\n"
   ]
  },
  {
   "cell_type": "code",
   "execution_count": 28,
   "metadata": {},
   "outputs": [
    {
     "data": {
      "text/html": [
       "<div>\n",
       "<style scoped>\n",
       "    .dataframe tbody tr th:only-of-type {\n",
       "        vertical-align: middle;\n",
       "    }\n",
       "\n",
       "    .dataframe tbody tr th {\n",
       "        vertical-align: top;\n",
       "    }\n",
       "\n",
       "    .dataframe thead th {\n",
       "        text-align: right;\n",
       "    }\n",
       "</style>\n",
       "<table border=\"1\" class=\"dataframe\">\n",
       "  <thead>\n",
       "    <tr style=\"text-align: right;\">\n",
       "      <th></th>\n",
       "      <th>pert_iname</th>\n",
       "      <th>TAG</th>\n",
       "      <th>cid</th>\n",
       "    </tr>\n",
       "  </thead>\n",
       "  <tbody>\n",
       "    <tr>\n",
       "      <th>0</th>\n",
       "      <td>1,2,3,4,5,6-hexabromocyclohexane</td>\n",
       "      <td>-19.991278</td>\n",
       "      <td>74603</td>\n",
       "    </tr>\n",
       "    <tr>\n",
       "      <th>1</th>\n",
       "      <td>1,2-dichlorobenzene</td>\n",
       "      <td>0.000000</td>\n",
       "      <td>7239</td>\n",
       "    </tr>\n",
       "    <tr>\n",
       "      <th>2</th>\n",
       "      <td>1-benzylimidazole</td>\n",
       "      <td>61.190712</td>\n",
       "      <td>77918</td>\n",
       "    </tr>\n",
       "    <tr>\n",
       "      <th>3</th>\n",
       "      <td>1-monopalmitin</td>\n",
       "      <td>-40.814514</td>\n",
       "      <td>14900</td>\n",
       "    </tr>\n",
       "    <tr>\n",
       "      <th>4</th>\n",
       "      <td>1-phenylbiguanide</td>\n",
       "      <td>52.198452</td>\n",
       "      <td>4780</td>\n",
       "    </tr>\n",
       "    <tr>\n",
       "      <th>...</th>\n",
       "      <td>...</td>\n",
       "      <td>...</td>\n",
       "      <td>...</td>\n",
       "    </tr>\n",
       "    <tr>\n",
       "      <th>2438</th>\n",
       "      <td>zonisamide</td>\n",
       "      <td>1.236632</td>\n",
       "      <td>5734</td>\n",
       "    </tr>\n",
       "    <tr>\n",
       "      <th>2439</th>\n",
       "      <td>zosuquidar</td>\n",
       "      <td>0.000000</td>\n",
       "      <td>3036703</td>\n",
       "    </tr>\n",
       "    <tr>\n",
       "      <th>2440</th>\n",
       "      <td>zoxazolamine</td>\n",
       "      <td>22.357698</td>\n",
       "      <td>6103</td>\n",
       "    </tr>\n",
       "    <tr>\n",
       "      <th>2441</th>\n",
       "      <td>zstk-474</td>\n",
       "      <td>-94.824883</td>\n",
       "      <td>11647372</td>\n",
       "    </tr>\n",
       "    <tr>\n",
       "      <th>2442</th>\n",
       "      <td>zuclopenthixol</td>\n",
       "      <td>52.662762</td>\n",
       "      <td>5311507</td>\n",
       "    </tr>\n",
       "  </tbody>\n",
       "</table>\n",
       "<p>2443 rows × 3 columns</p>\n",
       "</div>"
      ],
      "text/plain": [
       "                            pert_iname        TAG       cid\n",
       "0     1,2,3,4,5,6-hexabromocyclohexane -19.991278     74603\n",
       "1                  1,2-dichlorobenzene   0.000000      7239\n",
       "2                    1-benzylimidazole  61.190712     77918\n",
       "3                       1-monopalmitin -40.814514     14900\n",
       "4                    1-phenylbiguanide  52.198452      4780\n",
       "...                                ...        ...       ...\n",
       "2438                        zonisamide   1.236632      5734\n",
       "2439                        zosuquidar   0.000000   3036703\n",
       "2440                      zoxazolamine  22.357698      6103\n",
       "2441                          zstk-474 -94.824883  11647372\n",
       "2442                    zuclopenthixol  52.662762   5311507\n",
       "\n",
       "[2443 rows x 3 columns]"
      ]
     },
     "execution_count": 28,
     "metadata": {},
     "output_type": "execute_result"
    }
   ],
   "source": [
    "cmap['pert_iname'] = cmap['pert_iname'].str.lower()\n",
    "cmap_grouped = cmap.groupby(['pert_iname', 'TAG'], as_index=False).agg({\n",
    "    'cid': lambda x: ','.join(x)\n",
    "})\n",
    "\n",
    "cmap = cmap_grouped.drop_duplicates()\n",
    "\n",
    "def unique_join(val):\n",
    "    cids = val.split(',')\n",
    "    cids = [str(int(float(cid))) for cid in cids]\n",
    "    return ','.join(sorted(set(cids)))\n",
    "\n",
    "cmap['cid'] = cmap['cid'].apply(unique_join)\n",
    "\n",
    "cmap.reset_index(drop=True, inplace=True)"
   ]
  },
  {
   "cell_type": "code",
   "execution_count": 26,
   "metadata": {},
   "outputs": [
    {
     "name": "stdout",
     "output_type": "stream",
     "text": [
      "                            pert_iname        TAG        pert_id       cid\n",
      "0     1,2,3,4,5,6-hexabromocyclohexane -19.991278  BRD-K06817181     74603\n",
      "1                  1,2-dichlorobenzene   0.000000  BRD-K74430258      7239\n",
      "2                    1-benzylimidazole  61.190712  BRD-K32795028     77918\n",
      "3                       1-monopalmitin -40.814514  BRD-A80928489     14900\n",
      "4                    1-phenylbiguanide  52.198452  BRD-K31491153      4780\n",
      "...                                ...        ...            ...       ...\n",
      "2453                        zonisamide   1.236632  BRD-K48300629      5734\n",
      "2454                        zosuquidar   0.000000  BRD-K70557564   3036703\n",
      "2455                      zoxazolamine  22.357698  BRD-K66353228      6103\n",
      "2456                          zstk-474 -94.824883  BRD-K63068307  11647372\n",
      "2457                    zuclopenthixol  52.662762  BRD-K28761384   5311507\n",
      "\n",
      "[2458 rows x 4 columns]\n"
     ]
    }
   ],
   "source": [
    "print(cmap)"
   ]
  },
  {
   "cell_type": "code",
   "execution_count": 30,
   "metadata": {},
   "outputs": [
    {
     "name": "stdout",
     "output_type": "stream",
     "text": [
      "[('palbociclib', 'BRD-K51313569'), ('fulvestrant', 'BRD-A83237092'), ('palbociclib', 'BRD-K51313569'), ('fulvestrant', 'BRD-A83237092'), ('palbociclib', 'BRD-K51313569'), ('fulvestrant', 'BRD-A83237092'), ('doxorubicin', 'BRD-K92093830'), ('palbociclib', 'BRD-K51313569'), ('fulvestrant', 'BRD-A83237092'), ('doxorubicin', 'BRD-K92093830'), ('palbociclib', 'BRD-K51313569'), ('fulvestrant', 'BRD-A83237092'), ('doxorubicin', 'BRD-K92093830'), ('mitomycin-c', 'BRD-A48237631'), ('tamoxifen', 'BRD-K04210847'), ('palbociclib', 'BRD-K51313569'), ('fulvestrant', 'BRD-A83237092'), ('doxorubicin', 'BRD-K92093830'), ('mitomycin-c', 'BRD-A48237631'), ('tamoxifen', 'BRD-K04210847'), ('palbociclib', 'BRD-K51313569'), ('fulvestrant', 'BRD-A83237092'), ('doxorubicin', 'BRD-K92093830'), ('mitomycin-c', 'BRD-A48237631'), ('tamoxifen', 'BRD-K04210847'), ('doxorubicin', 'BRD-A52530684'), ('tamoxifen', 'BRD-K43744935'), ('fulvestrant', 'BRD-A90490067'), ('palbociclib', 'BRD-K51313569'), ('fulvestrant', 'BRD-A83237092'), ('doxorubicin', 'BRD-K92093830'), ('mitomycin-c', 'BRD-A48237631'), ('tamoxifen', 'BRD-K04210847'), ('doxorubicin', 'BRD-A52530684'), ('tamoxifen', 'BRD-K43744935'), ('fulvestrant', 'BRD-A90490067'), ('palbociclib', 'BRD-K51313569'), ('fulvestrant', 'BRD-A83237092'), ('doxorubicin', 'BRD-K92093830'), ('mitomycin-c', 'BRD-A48237631'), ('tamoxifen', 'BRD-K04210847'), ('doxorubicin', 'BRD-A52530684'), ('tamoxifen', 'BRD-K43744935'), ('fulvestrant', 'BRD-A90490067'), ('doxorubicin', 'BRD-A76941896'), ('palbociclib', 'BRD-K51313569'), ('fulvestrant', 'BRD-A83237092'), ('doxorubicin', 'BRD-K92093830'), ('mitomycin-c', 'BRD-A48237631'), ('tamoxifen', 'BRD-K04210847'), ('doxorubicin', 'BRD-A52530684'), ('tamoxifen', 'BRD-K43744935'), ('fulvestrant', 'BRD-A90490067'), ('doxorubicin', 'BRD-A76941896'), ('palbociclib', 'BRD-K51313569'), ('fulvestrant', 'BRD-A83237092'), ('doxorubicin', 'BRD-K92093830'), ('mitomycin-c', 'BRD-A48237631'), ('tamoxifen', 'BRD-K04210847'), ('doxorubicin', 'BRD-A52530684'), ('tamoxifen', 'BRD-K43744935'), ('fulvestrant', 'BRD-A90490067'), ('doxorubicin', 'BRD-A76941896'), ('tamoxifen', 'BRD-K93754473'), ('palbociclib', 'BRD-K51313569'), ('fulvestrant', 'BRD-A83237092'), ('doxorubicin', 'BRD-K92093830'), ('mitomycin-c', 'BRD-A48237631'), ('tamoxifen', 'BRD-K04210847'), ('doxorubicin', 'BRD-A52530684'), ('tamoxifen', 'BRD-K43744935'), ('fulvestrant', 'BRD-A90490067'), ('doxorubicin', 'BRD-A76941896'), ('tamoxifen', 'BRD-K93754473')]\n"
     ]
    }
   ],
   "source": [
    "import json\n",
    "\n",
    "# Define the path to the file that contains the data\n",
    "input_file_path = \"C:\\\\Users\\\\areeba khan\\\\Documents\\\\UdS\\\\Master Thesis\\\\CMAP_Output\\\\brca\\\\equal_set\\\\degs\\\\overlap_compounds.txt\"\n",
    "\n",
    "# Open the file and read the data\n",
    "with open(input_file_path, 'r') as file:\n",
    "    # Load the data from the file (assuming it's JSON-like format)\n",
    "    data = json.load(file)\n",
    "\n",
    "# Extract cmap_compounds and pert_id into a list of tuples (cmap_compounds, pert_id)\n",
    "cmap_pert_list = [(entry['cmap_compunds'], entry['pert_id']) for entry in data]\n",
    "\n",
    "# Print the list to see the output\n",
    "print(cmap_pert_list)"
   ]
  }
 ],
 "metadata": {
  "kernelspec": {
   "display_name": "Python 3",
   "language": "python",
   "name": "python3"
  },
  "language_info": {
   "codemirror_mode": {
    "name": "ipython",
    "version": 3
   },
   "file_extension": ".py",
   "mimetype": "text/x-python",
   "name": "python",
   "nbconvert_exporter": "python",
   "pygments_lexer": "ipython3",
   "version": "3.10.0"
  }
 },
 "nbformat": 4,
 "nbformat_minor": 2
}
